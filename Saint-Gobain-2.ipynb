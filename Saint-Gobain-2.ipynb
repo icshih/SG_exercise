{
 "cells": [
  {
   "cell_type": "markdown",
   "metadata": {},
   "source": [
    "# Référendum 2013"
   ]
  },
  {
   "cell_type": "code",
   "execution_count": 1,
   "metadata": {},
   "outputs": [],
   "source": [
    "import psycopg2"
   ]
  },
  {
   "cell_type": "code",
   "execution_count": 2,
   "metadata": {},
   "outputs": [],
   "source": [
    "import pandas as pd"
   ]
  },
  {
   "cell_type": "code",
   "execution_count": 3,
   "metadata": {},
   "outputs": [],
   "source": [
    "import numpy as np"
   ]
  },
  {
   "cell_type": "code",
   "execution_count": 4,
   "metadata": {},
   "outputs": [],
   "source": [
    "from scipy import stats"
   ]
  },
  {
   "cell_type": "code",
   "execution_count": 5,
   "metadata": {},
   "outputs": [],
   "source": [
    "import matplotlib.pyplot as plt"
   ]
  },
  {
   "cell_type": "markdown",
   "metadata": {},
   "source": [
    "Running a Docker container with PostgreSQL 9.6 image\n",
    "\n",
    "Data are ingested into the database."
   ]
  },
  {
   "cell_type": "code",
   "execution_count": 6,
   "metadata": {},
   "outputs": [],
   "source": [
    "saved = False"
   ]
  },
  {
   "cell_type": "code",
   "execution_count": 7,
   "metadata": {},
   "outputs": [],
   "source": [
    "conn = psycopg2.connect(host='0.0.0.0', port='5433', dbname='postgres', user='postgres')"
   ]
  },
  {
   "cell_type": "markdown",
   "metadata": {},
   "source": [
    "## Validation\n",
    "(inscrits - absentions) == (blancs + choix_a + choix_b)"
   ]
  },
  {
   "cell_type": "code",
   "execution_count": 8,
   "metadata": {},
   "outputs": [],
   "source": [
    "# Validating that the entry is equal.\n",
    "validation = pd.read_sql('SELECT code_departement, name_commune, diff FROM (SELECT code_departement, name_commune, (inscrits - absentions) - (blancs + choix_a +choix_b) AS diff FROM referendum) AS a WHERE diff > 0', con=conn)"
   ]
  },
  {
   "cell_type": "code",
   "execution_count": 9,
   "metadata": {},
   "outputs": [
    {
     "data": {
      "text/plain": [
       "0"
      ]
     },
     "execution_count": 9,
     "metadata": {},
     "output_type": "execute_result"
    }
   ],
   "source": [
    "len(validation)"
   ]
  },
  {
   "cell_type": "markdown",
   "metadata": {},
   "source": [
    "## Le taux de participation"
   ]
  },
  {
   "cell_type": "code",
   "execution_count": 10,
   "metadata": {},
   "outputs": [],
   "source": [
    "gen_participation = pd.read_sql('SELECT SUM(inscrits) AS total_inscrits, SUM(absentions) AS total_absent, SUM(blancs) AS total_blancs, SUM(choix_a) AS total_choix_a, SUM(choix_b) AS total_choix_b FROM referendum_departement', con=conn)"
   ]
  },
  {
   "cell_type": "code",
   "execution_count": 11,
   "metadata": {},
   "outputs": [],
   "source": [
    "taux_absents = gen_participation['total_absent']/gen_participation['total_inscrits']\n",
    "taux_vote = 1.0 - taux_absents"
   ]
  },
  {
   "cell_type": "code",
   "execution_count": 12,
   "metadata": {},
   "outputs": [],
   "source": [
    "def general_participation(labels, dataset, explode_pie, is_save, filename):\n",
    "    # Pie chart, where the slices will be ordered and plotted counter-clockwise:\n",
    "    explode = explode_pie  # only \"explode\" the 2nd slice\n",
    "    fig1, ax1 = plt.subplots(figsize=(6, 6))\n",
    "    ax1.pie(dataset, explode=explode, labels=labels, autopct='%1.1f%%', shadow=False, startangle=90)\n",
    "    ax1.axis('equal')  # Equal aspect ratio ensures that pie is drawn as a circle.\n",
    "    if is_save:\n",
    "        plt.savefig(filename, format='png')\n",
    "    else:\n",
    "        plt.show()"
   ]
  },
  {
   "cell_type": "code",
   "execution_count": 13,
   "metadata": {
    "scrolled": true
   },
   "outputs": [
    {
     "data": {
      "image/png": "[encoded data removed]",
      "text/plain": [
       "<matplotlib.figure.Figure at 0x113cffeb8>"
      ]
     },
     "metadata": {},
     "output_type": "display_data"
    }
   ],
   "source": [
    "general_participation(['participations', 'absentions'], [taux_vote, taux_absents], (0, 0.1), saved, 'referendum_participation.png')"
   ]
  },
  {
   "cell_type": "markdown",
   "metadata": {},
   "source": [
    "## Le resultat"
   ]
  },
  {
   "cell_type": "code",
   "execution_count": 14,
   "metadata": {},
   "outputs": [],
   "source": [
    "general_choix = gen_participation['total_blancs'] + gen_participation['total_choix_a'] + gen_participation['total_choix_b']"
   ]
  },
  {
   "cell_type": "code",
   "execution_count": 15,
   "metadata": {},
   "outputs": [],
   "source": [
    "choix_a = gen_participation['total_choix_a']/general_choix\n",
    "choix_b = gen_participation['total_choix_b']/general_choix\n",
    "blancs = gen_participation['total_blancs']/general_choix"
   ]
  },
  {
   "cell_type": "code",
   "execution_count": 16,
   "metadata": {},
   "outputs": [
    {
     "data": {
      "image/png": "[encoded data removed]",
      "text/plain": [
       "<matplotlib.figure.Figure at 0x113d7cba8>"
      ]
     },
     "metadata": {},
     "output_type": "display_data"
    }
   ],
   "source": [
    "general_participation(['choix_a', 'choix_b', 'blancs'], [choix_a, choix_b, blancs], (0, 0, 0.1), saved, 'referendum_vote.png')"
   ]
  },
  {
   "cell_type": "markdown",
   "metadata": {},
   "source": [
    "## Le taux de participation par departement"
   ]
  },
  {
   "cell_type": "code",
   "execution_count": 17,
   "metadata": {},
   "outputs": [],
   "source": [
    "departement_participation = pd.read_sql('SELECT code_departement, name_departement, 1.0 - (absentions*1.0)/(inscrits*1.0) AS participation FROM referendum_departement ORDER BY participation DESC', con=conn)"
   ]
  },
  {
   "cell_type": "code",
   "execution_count": 18,
   "metadata": {},
   "outputs": [],
   "source": [
    "def departement_vote(depart_partici_dataset, is_save, filename):\n",
    "    ind = np.arange(len(depart_partici_dataset))\n",
    "    fig1, ax1 = plt.subplots(figsize=(14, 14))\n",
    "    bars = plt.bar(ind + 1.0, depart_partici_dataset['participation']*100.0)\n",
    "    ax1.set_xticks(ind+ 1.0)\n",
    "    ax1.set_ylim(0.0, 100.0)\n",
    "    xtickNames = plt.setp(ax1, xticklabels=depart_partici_dataset['name_departement'])\n",
    "    plt.setp(xtickNames, rotation=60, fontsize=12)\n",
    "    if is_save:\n",
    "        plt.savefig(filename, format='png')\n",
    "    else:\n",
    "        plt.show()"
   ]
  },
  {
   "cell_type": "code",
   "execution_count": 19,
   "metadata": {},
   "outputs": [
    {
     "data": {
      "image/png": "[encoded data removed]",
      "text/plain": [
       "<matplotlib.figure.Figure at 0x113e73a20>"
      ]
     },
     "metadata": {},
     "output_type": "display_data"
    }
   ],
   "source": [
    "departement_vote(departement_participation.head(20), saved, 'participation_dep_head20.png')"
   ]
  },
  {
   "cell_type": "code",
   "execution_count": 20,
   "metadata": {},
   "outputs": [
    {
     "data": {
      "image/png": "[encoded data removed]",
      "text/plain": [
       "<matplotlib.figure.Figure at 0x113e27fd0>"
      ]
     },
     "metadata": {},
     "output_type": "display_data"
    }
   ],
   "source": [
    "departement_vote(departement_participation.tail(20), saved, 'participation_dep_tail20.png')"
   ]
  },
  {
   "cell_type": "markdown",
   "metadata": {},
   "source": [
    "## La distribution de vote"
   ]
  },
  {
   "cell_type": "code",
   "execution_count": 21,
   "metadata": {},
   "outputs": [],
   "source": [
    "choix_data = pd.read_sql('SELECT code_departement, name_departement, blancs*1.0/(choix_a+choix_b+blancs)*1.0 AS perc_blancs, choix_a*1.0/(choix_a+choix_b+blancs)*1.0 AS perc_choix_a, choix_b*1.0/(choix_a+choix_b+blancs)*1.0 AS perc_choix_b FROM referendum_departement', con=conn)"
   ]
  },
  {
   "cell_type": "code",
   "execution_count": 22,
   "metadata": {},
   "outputs": [],
   "source": [
    "def departement_choix_histogram(choix_dataset, is_save, filename):\n",
    "    fig = plt.figure(figsize=(15, 6))\n",
    "    ax1 = fig.add_subplot(131)\n",
    "    ax1.set_title('Choix A')\n",
    "    ax1.set_xlabel('Percentage')\n",
    "    ax1.set_xlim(30.0, 70.0)\n",
    "    ax1.set_ylabel('N of departement')\n",
    "    ax1.hist(choix_dataset.perc_choix_a*100.0, bins=20)\n",
    "    ax2 = fig.add_subplot(132)\n",
    "    ax2.set_title('Choix B')\n",
    "    ax2.set_xlabel('Percentage')\n",
    "    ax2.set_xlim(30.0, 70.0)\n",
    "    ax2.hist(choix_dataset.perc_choix_b*100.0, bins=20)\n",
    "    ax3 = fig.add_subplot(133)\n",
    "    ax3.set_title('Blancs et nul')\n",
    "    ax3.set_xlabel('Percentage')\n",
    "    ax3.hist(choix_dataset.perc_blancs*100.0, bins=20)\n",
    "    ax3.set_xlim(0.0, 10.0)\n",
    "    if is_save:\n",
    "        plt.savefig(filename, format='png')\n",
    "    else:\n",
    "        plt.show()"
   ]
  },
  {
   "cell_type": "code",
   "execution_count": 23,
   "metadata": {},
   "outputs": [
    {
     "data": {
      "image/png": "[encoded data removed]",
      "text/plain": [
       "<matplotlib.figure.Figure at 0x1146de780>"
      ]
     },
     "metadata": {},
     "output_type": "display_data"
    }
   ],
   "source": [
    "departement_choix_histogram(choix_data, saved, 'choix.png')"
   ]
  },
  {
   "cell_type": "code",
   "execution_count": 24,
   "metadata": {},
   "outputs": [
    {
     "data": {
      "text/html": [
       "<div>\n",
       "<style scoped>\n",
       "    .dataframe tbody tr th:only-of-type {\n",
       "        vertical-align: middle;\n",
       "    }\n",
       "\n",
       "    .dataframe tbody tr th {\n",
       "        vertical-align: top;\n",
       "    }\n",
       "\n",
       "    .dataframe thead th {\n",
       "        text-align: right;\n",
       "    }\n",
       "</style>\n",
       "<table border=\"1\" class=\"dataframe\">\n",
       "  <thead>\n",
       "    <tr style=\"text-align: right;\">\n",
       "      <th></th>\n",
       "      <th>code_departement</th>\n",
       "      <th>name_departement</th>\n",
       "      <th>perc_blancs</th>\n",
       "      <th>perc_choix_a</th>\n",
       "      <th>perc_choix_b</th>\n",
       "    </tr>\n",
       "  </thead>\n",
       "  <tbody>\n",
       "    <tr>\n",
       "      <th>66</th>\n",
       "      <td>ZB</td>\n",
       "      <td>MARTINIQUE</td>\n",
       "      <td>0.078771</td>\n",
       "      <td>0.56723</td>\n",
       "      <td>0.354</td>\n",
       "    </tr>\n",
       "  </tbody>\n",
       "</table>\n",
       "</div>"
      ],
      "text/plain": [
       "   code_departement name_departement  perc_blancs  perc_choix_a  perc_choix_b\n",
       "66              ZB        MARTINIQUE     0.078771       0.56723         0.354"
      ]
     },
     "execution_count": 24,
     "metadata": {},
     "output_type": "execute_result"
    }
   ],
   "source": [
    "choix_data[choix_data.perc_blancs == choix_data.perc_blancs.max()]"
   ]
  },
  {
   "cell_type": "code",
   "execution_count": 25,
   "metadata": {},
   "outputs": [
    {
     "data": {
      "text/html": [
       "<div>\n",
       "<style scoped>\n",
       "    .dataframe tbody tr th:only-of-type {\n",
       "        vertical-align: middle;\n",
       "    }\n",
       "\n",
       "    .dataframe tbody tr th {\n",
       "        vertical-align: top;\n",
       "    }\n",
       "\n",
       "    .dataframe thead th {\n",
       "        text-align: right;\n",
       "    }\n",
       "</style>\n",
       "<table border=\"1\" class=\"dataframe\">\n",
       "  <thead>\n",
       "    <tr style=\"text-align: right;\">\n",
       "      <th></th>\n",
       "      <th>code_departement</th>\n",
       "      <th>name_departement</th>\n",
       "      <th>perc_blancs</th>\n",
       "      <th>perc_choix_a</th>\n",
       "      <th>perc_choix_b</th>\n",
       "    </tr>\n",
       "  </thead>\n",
       "  <tbody>\n",
       "    <tr>\n",
       "      <th>104</th>\n",
       "      <td>ZW</td>\n",
       "      <td>WALLIS-ET-FUTUNA</td>\n",
       "      <td>0.00605</td>\n",
       "      <td>0.521098</td>\n",
       "      <td>0.472851</td>\n",
       "    </tr>\n",
       "  </tbody>\n",
       "</table>\n",
       "</div>"
      ],
      "text/plain": [
       "    code_departement  name_departement  perc_blancs  perc_choix_a  \\\n",
       "104              ZW   WALLIS-ET-FUTUNA      0.00605      0.521098   \n",
       "\n",
       "     perc_choix_b  \n",
       "104      0.472851  "
      ]
     },
     "execution_count": 25,
     "metadata": {},
     "output_type": "execute_result"
    }
   ],
   "source": [
    "choix_data[choix_data.perc_blancs == choix_data.perc_blancs.min()]"
   ]
  },
  {
   "cell_type": "code",
   "execution_count": 26,
   "metadata": {},
   "outputs": [
    {
     "data": {
      "text/html": [
       "<div>\n",
       "<style scoped>\n",
       "    .dataframe tbody tr th:only-of-type {\n",
       "        vertical-align: middle;\n",
       "    }\n",
       "\n",
       "    .dataframe tbody tr th {\n",
       "        vertical-align: top;\n",
       "    }\n",
       "\n",
       "    .dataframe thead th {\n",
       "        text-align: right;\n",
       "    }\n",
       "</style>\n",
       "<table border=\"1\" class=\"dataframe\">\n",
       "  <thead>\n",
       "    <tr style=\"text-align: right;\">\n",
       "      <th></th>\n",
       "      <th>code_departement</th>\n",
       "      <th>name_departement</th>\n",
       "      <th>perc_blancs</th>\n",
       "      <th>perc_choix_a</th>\n",
       "      <th>perc_choix_b</th>\n",
       "    </tr>\n",
       "  </thead>\n",
       "  <tbody>\n",
       "    <tr>\n",
       "      <th>55</th>\n",
       "      <td>ZD</td>\n",
       "      <td>LA REUNION</td>\n",
       "      <td>0.040336</td>\n",
       "      <td>0.610481</td>\n",
       "      <td>0.349183</td>\n",
       "    </tr>\n",
       "  </tbody>\n",
       "</table>\n",
       "</div>"
      ],
      "text/plain": [
       "   code_departement name_departement  perc_blancs  perc_choix_a  perc_choix_b\n",
       "55              ZD        LA REUNION     0.040336      0.610481      0.349183"
      ]
     },
     "execution_count": 26,
     "metadata": {},
     "output_type": "execute_result"
    }
   ],
   "source": [
    "choix_data[choix_data.perc_choix_a == choix_data.perc_choix_a.max()]"
   ]
  },
  {
   "cell_type": "code",
   "execution_count": 27,
   "metadata": {},
   "outputs": [
    {
     "data": {
      "text/html": [
       "<div>\n",
       "<style scoped>\n",
       "    .dataframe tbody tr th:only-of-type {\n",
       "        vertical-align: middle;\n",
       "    }\n",
       "\n",
       "    .dataframe tbody tr th {\n",
       "        vertical-align: top;\n",
       "    }\n",
       "\n",
       "    .dataframe thead th {\n",
       "        text-align: right;\n",
       "    }\n",
       "</style>\n",
       "<table border=\"1\" class=\"dataframe\">\n",
       "  <thead>\n",
       "    <tr style=\"text-align: right;\">\n",
       "      <th></th>\n",
       "      <th>code_departement</th>\n",
       "      <th>name_departement</th>\n",
       "      <th>perc_blancs</th>\n",
       "      <th>perc_choix_a</th>\n",
       "      <th>perc_choix_b</th>\n",
       "    </tr>\n",
       "  </thead>\n",
       "  <tbody>\n",
       "    <tr>\n",
       "      <th>46</th>\n",
       "      <td>68</td>\n",
       "      <td>HAUT RHIN</td>\n",
       "      <td>0.020292</td>\n",
       "      <td>0.302237</td>\n",
       "      <td>0.677471</td>\n",
       "    </tr>\n",
       "  </tbody>\n",
       "</table>\n",
       "</div>"
      ],
      "text/plain": [
       "   code_departement name_departement  perc_blancs  perc_choix_a  perc_choix_b\n",
       "46              68         HAUT RHIN     0.020292      0.302237      0.677471"
      ]
     },
     "execution_count": 27,
     "metadata": {},
     "output_type": "execute_result"
    }
   ],
   "source": [
    "choix_data[choix_data.perc_choix_a == choix_data.perc_choix_a.min()]"
   ]
  },
  {
   "cell_type": "code",
   "execution_count": 28,
   "metadata": {},
   "outputs": [
    {
     "data": {
      "text/html": [
       "<div>\n",
       "<style scoped>\n",
       "    .dataframe tbody tr th:only-of-type {\n",
       "        vertical-align: middle;\n",
       "    }\n",
       "\n",
       "    .dataframe tbody tr th {\n",
       "        vertical-align: top;\n",
       "    }\n",
       "\n",
       "    .dataframe thead th {\n",
       "        text-align: right;\n",
       "    }\n",
       "</style>\n",
       "<table border=\"1\" class=\"dataframe\">\n",
       "  <thead>\n",
       "    <tr style=\"text-align: right;\">\n",
       "      <th></th>\n",
       "      <th>code_departement</th>\n",
       "      <th>name_departement</th>\n",
       "      <th>perc_blancs</th>\n",
       "      <th>perc_choix_a</th>\n",
       "      <th>perc_choix_b</th>\n",
       "    </tr>\n",
       "  </thead>\n",
       "  <tbody>\n",
       "    <tr>\n",
       "      <th>4</th>\n",
       "      <td>6</td>\n",
       "      <td>ALPES MARITIMES</td>\n",
       "      <td>0.015312</td>\n",
       "      <td>0.303534</td>\n",
       "      <td>0.681155</td>\n",
       "    </tr>\n",
       "  </tbody>\n",
       "</table>\n",
       "</div>"
      ],
      "text/plain": [
       "  code_departement name_departement  perc_blancs  perc_choix_a  perc_choix_b\n",
       "4              6    ALPES MARITIMES     0.015312      0.303534      0.681155"
      ]
     },
     "execution_count": 28,
     "metadata": {},
     "output_type": "execute_result"
    }
   ],
   "source": [
    "choix_data[choix_data.perc_choix_b == choix_data.perc_choix_b.max()]"
   ]
  },
  {
   "cell_type": "code",
   "execution_count": 29,
   "metadata": {},
   "outputs": [
    {
     "data": {
      "text/html": [
       "<div>\n",
       "<style scoped>\n",
       "    .dataframe tbody tr th:only-of-type {\n",
       "        vertical-align: middle;\n",
       "    }\n",
       "\n",
       "    .dataframe tbody tr th {\n",
       "        vertical-align: top;\n",
       "    }\n",
       "\n",
       "    .dataframe thead th {\n",
       "        text-align: right;\n",
       "    }\n",
       "</style>\n",
       "<table border=\"1\" class=\"dataframe\">\n",
       "  <thead>\n",
       "    <tr style=\"text-align: right;\">\n",
       "      <th></th>\n",
       "      <th>code_departement</th>\n",
       "      <th>name_departement</th>\n",
       "      <th>perc_blancs</th>\n",
       "      <th>perc_choix_a</th>\n",
       "      <th>perc_choix_b</th>\n",
       "    </tr>\n",
       "  </thead>\n",
       "  <tbody>\n",
       "    <tr>\n",
       "      <th>35</th>\n",
       "      <td>ZA</td>\n",
       "      <td>GUADELOUPE</td>\n",
       "      <td>0.072603</td>\n",
       "      <td>0.607968</td>\n",
       "      <td>0.319429</td>\n",
       "    </tr>\n",
       "  </tbody>\n",
       "</table>\n",
       "</div>"
      ],
      "text/plain": [
       "   code_departement name_departement  perc_blancs  perc_choix_a  perc_choix_b\n",
       "35              ZA        GUADELOUPE     0.072603      0.607968      0.319429"
      ]
     },
     "execution_count": 29,
     "metadata": {},
     "output_type": "execute_result"
    }
   ],
   "source": [
    "choix_data[choix_data.perc_choix_b == choix_data.perc_choix_b.min()]"
   ]
  },
  {
   "cell_type": "markdown",
   "metadata": {},
   "source": [
    "## L'index de choix\n",
    "\n",
    "La Definition de l'index de choix,\n",
    "\n",
    "    perc_choix_a = choix_a / (vote total)\n",
    "    perc_choix_b = choix_b / (vote total)\n",
    "    index = perc_choix_a - perc_choix_b"
   ]
  },
  {
   "cell_type": "code",
   "execution_count": 30,
   "metadata": {},
   "outputs": [],
   "source": [
    "choix_index = pd.read_sql('SELECT code_departement, name_departement, perc_choix_a - perc_choix_b AS choix_index FROM referendum_choix_departement', con=conn)"
   ]
  },
  {
   "cell_type": "code",
   "execution_count": 31,
   "metadata": {},
   "outputs": [],
   "source": [
    "# Define choix_index: choix_a - choix_b\n",
    "def departement_choix_index_histogram(choix_dataset, is_save, filename):\n",
    "    fig = plt.figure(figsize=(5, 6))\n",
    "    ax1 = fig.add_subplot(111)\n",
    "    ax1.set_title('Index Choix')\n",
    "    ax1.set_xlabel('Choix_A% - Choix_B%')\n",
    "    ax1.set_xlim(-0.50, 0.50)\n",
    "    ax1.set_ylabel('N of departement')\n",
    "    ax1.hist(choix_index.choix_index, bins=20)\n",
    "    if is_save:\n",
    "        plt.savefig(filename, format='png')\n",
    "    else:\n",
    "        plt.show()"
   ]
  },
  {
   "cell_type": "code",
   "execution_count": 32,
   "metadata": {},
   "outputs": [
    {
     "data": {
      "image/png": "[encoded data removed]",
      "text/plain": [
       "<matplotlib.figure.Figure at 0x114efde10>"
      ]
     },
     "metadata": {},
     "output_type": "display_data"
    }
   ],
   "source": [
    "departement_choix_index_histogram(choix_index, saved, 'choix_index.png')"
   ]
  },
  {
   "cell_type": "markdown",
   "metadata": {},
   "source": [
    "## Relation Participation - Vote (Index Choix)"
   ]
  },
  {
   "cell_type": "code",
   "execution_count": 33,
   "metadata": {},
   "outputs": [],
   "source": [
    "data_vote_choix = pd.read_sql('SELECT a.code_departement, a.name_departement, (b.inscrits - b.absentions)*1.0/b.inscrits*1.0 AS perc_vote, a.perc_choix_a, a.perc_choix_b, a.perc_blancs, a.perc_choix_a - a.perc_choix_b AS choix_index FROM referendum_choix_departement AS a, referendum_departement AS b WHERE a.name_departement = b.name_departement', con=conn)"
   ]
  },
  {
   "cell_type": "code",
   "execution_count": 34,
   "metadata": {},
   "outputs": [],
   "source": [
    "def plot_vote_choix_relation(data_vote_choix_dataset, is_save, filename):\n",
    "    fig = plt.figure(figsize=(6, 6))\n",
    "    ax1 = fig.add_subplot(111)\n",
    "    ax1.set_title('Relation Participation - idx_Choix')\n",
    "    ax1.set_xlabel('Le taux de participation (%)')\n",
    "    ax1.set_ylabel('Idx_Choix (Choix_A% - Choix_B%)')\n",
    "    ax1.set_xlim(20.0, 100.0)\n",
    "    ax1.set_ylim(-0.4, 0.4)\n",
    "    ax1.scatter(data_vote_choix_dataset.perc_vote*100.0, data_vote_choix_dataset.choix_index, s=10.0)\n",
    "    if is_save:\n",
    "        plt.savefig(filename, format='png')\n",
    "    else:\n",
    "        plt.show()"
   ]
  },
  {
   "cell_type": "code",
   "execution_count": 35,
   "metadata": {},
   "outputs": [
    {
     "data": {
      "image/png": "[encoded data removed]",
      "text/plain": [
       "<matplotlib.figure.Figure at 0x1150bc7f0>"
      ]
     },
     "metadata": {},
     "output_type": "display_data"
    }
   ],
   "source": [
    "plot_vote_choix_relation(data_vote_choix, saved, 'relation_vote_choix_idx.png')"
   ]
  },
  {
   "cell_type": "code",
   "execution_count": 36,
   "metadata": {},
   "outputs": [
    {
     "data": {
      "text/html": [
       "<div>\n",
       "<style scoped>\n",
       "    .dataframe tbody tr th:only-of-type {\n",
       "        vertical-align: middle;\n",
       "    }\n",
       "\n",
       "    .dataframe tbody tr th {\n",
       "        vertical-align: top;\n",
       "    }\n",
       "\n",
       "    .dataframe thead th {\n",
       "        text-align: right;\n",
       "    }\n",
       "</style>\n",
       "<table border=\"1\" class=\"dataframe\">\n",
       "  <thead>\n",
       "    <tr style=\"text-align: right;\">\n",
       "      <th></th>\n",
       "      <th>code_departement</th>\n",
       "      <th>name_departement</th>\n",
       "      <th>perc_vote</th>\n",
       "      <th>perc_choix_a</th>\n",
       "      <th>perc_choix_b</th>\n",
       "      <th>perc_blancs</th>\n",
       "      <th>choix_index</th>\n",
       "    </tr>\n",
       "  </thead>\n",
       "  <tbody>\n",
       "    <tr>\n",
       "      <th>21</th>\n",
       "      <td>22</td>\n",
       "      <td>COTES D'ARMOR</td>\n",
       "      <td>0.857076</td>\n",
       "      <td>0.491030</td>\n",
       "      <td>0.490934</td>\n",
       "      <td>0.018036</td>\n",
       "      <td>0.000096</td>\n",
       "    </tr>\n",
       "    <tr>\n",
       "      <th>30</th>\n",
       "      <td>29</td>\n",
       "      <td>FINISTERE</td>\n",
       "      <td>0.841636</td>\n",
       "      <td>0.494002</td>\n",
       "      <td>0.489279</td>\n",
       "      <td>0.016719</td>\n",
       "      <td>0.004723</td>\n",
       "    </tr>\n",
       "    <tr>\n",
       "      <th>38</th>\n",
       "      <td>31</td>\n",
       "      <td>HAUTE GARONNE</td>\n",
       "      <td>0.834703</td>\n",
       "      <td>0.499144</td>\n",
       "      <td>0.484183</td>\n",
       "      <td>0.016673</td>\n",
       "      <td>0.014961</td>\n",
       "    </tr>\n",
       "    <tr>\n",
       "      <th>97</th>\n",
       "      <td>94</td>\n",
       "      <td>VAL DE MARNE</td>\n",
       "      <td>0.774994</td>\n",
       "      <td>0.499755</td>\n",
       "      <td>0.484273</td>\n",
       "      <td>0.015972</td>\n",
       "      <td>0.015483</td>\n",
       "    </tr>\n",
       "    <tr>\n",
       "      <th>22</th>\n",
       "      <td>23</td>\n",
       "      <td>CREUSE</td>\n",
       "      <td>0.822266</td>\n",
       "      <td>0.497709</td>\n",
       "      <td>0.478351</td>\n",
       "      <td>0.023940</td>\n",
       "      <td>0.019358</td>\n",
       "    </tr>\n",
       "    <tr>\n",
       "      <th>81</th>\n",
       "      <td>63</td>\n",
       "      <td>PUY DE DOME</td>\n",
       "      <td>0.840664</td>\n",
       "      <td>0.498989</td>\n",
       "      <td>0.479241</td>\n",
       "      <td>0.021771</td>\n",
       "      <td>0.019748</td>\n",
       "    </tr>\n",
       "    <tr>\n",
       "      <th>78</th>\n",
       "      <td>75</td>\n",
       "      <td>PARIS</td>\n",
       "      <td>0.801523</td>\n",
       "      <td>0.504291</td>\n",
       "      <td>0.483671</td>\n",
       "      <td>0.012038</td>\n",
       "      <td>0.020620</td>\n",
       "    </tr>\n",
       "    <tr>\n",
       "      <th>44</th>\n",
       "      <td>65</td>\n",
       "      <td>HAUTES PYRENEES</td>\n",
       "      <td>0.832350</td>\n",
       "      <td>0.512423</td>\n",
       "      <td>0.467472</td>\n",
       "      <td>0.020105</td>\n",
       "      <td>0.044951</td>\n",
       "    </tr>\n",
       "    <tr>\n",
       "      <th>104</th>\n",
       "      <td>ZW</td>\n",
       "      <td>WALLIS-ET-FUTUNA</td>\n",
       "      <td>0.721029</td>\n",
       "      <td>0.521098</td>\n",
       "      <td>0.472851</td>\n",
       "      <td>0.006050</td>\n",
       "      <td>0.048247</td>\n",
       "    </tr>\n",
       "    <tr>\n",
       "      <th>60</th>\n",
       "      <td>46</td>\n",
       "      <td>LOT</td>\n",
       "      <td>0.861383</td>\n",
       "      <td>0.524631</td>\n",
       "      <td>0.455015</td>\n",
       "      <td>0.020354</td>\n",
       "      <td>0.069615</td>\n",
       "    </tr>\n",
       "    <tr>\n",
       "      <th>45</th>\n",
       "      <td>87</td>\n",
       "      <td>HAUTE VIENNE</td>\n",
       "      <td>0.845138</td>\n",
       "      <td>0.525055</td>\n",
       "      <td>0.448370</td>\n",
       "      <td>0.026576</td>\n",
       "      <td>0.076685</td>\n",
       "    </tr>\n",
       "    <tr>\n",
       "      <th>36</th>\n",
       "      <td>ZC</td>\n",
       "      <td>GUYANE</td>\n",
       "      <td>0.509509</td>\n",
       "      <td>0.521472</td>\n",
       "      <td>0.433696</td>\n",
       "      <td>0.044833</td>\n",
       "      <td>0.087776</td>\n",
       "    </tr>\n",
       "    <tr>\n",
       "      <th>86</th>\n",
       "      <td>ZS</td>\n",
       "      <td>SAINT PIERRE ET MIQUELON</td>\n",
       "      <td>0.554540</td>\n",
       "      <td>0.533333</td>\n",
       "      <td>0.430403</td>\n",
       "      <td>0.036264</td>\n",
       "      <td>0.102930</td>\n",
       "    </tr>\n",
       "    <tr>\n",
       "      <th>7</th>\n",
       "      <td>9</td>\n",
       "      <td>ARIEGE</td>\n",
       "      <td>0.841007</td>\n",
       "      <td>0.550394</td>\n",
       "      <td>0.431009</td>\n",
       "      <td>0.018596</td>\n",
       "      <td>0.119385</td>\n",
       "    </tr>\n",
       "    <tr>\n",
       "      <th>18</th>\n",
       "      <td>19</td>\n",
       "      <td>CORREZE</td>\n",
       "      <td>0.853605</td>\n",
       "      <td>0.551720</td>\n",
       "      <td>0.427737</td>\n",
       "      <td>0.020544</td>\n",
       "      <td>0.123983</td>\n",
       "    </tr>\n",
       "    <tr>\n",
       "      <th>92</th>\n",
       "      <td>93</td>\n",
       "      <td>SEINE SAINT-DENIS</td>\n",
       "      <td>0.734629</td>\n",
       "      <td>0.582097</td>\n",
       "      <td>0.399330</td>\n",
       "      <td>0.018573</td>\n",
       "      <td>0.182768</td>\n",
       "    </tr>\n",
       "    <tr>\n",
       "      <th>66</th>\n",
       "      <td>ZB</td>\n",
       "      <td>MARTINIQUE</td>\n",
       "      <td>0.524184</td>\n",
       "      <td>0.567230</td>\n",
       "      <td>0.354000</td>\n",
       "      <td>0.078771</td>\n",
       "      <td>0.213230</td>\n",
       "    </tr>\n",
       "    <tr>\n",
       "      <th>55</th>\n",
       "      <td>ZD</td>\n",
       "      <td>LA REUNION</td>\n",
       "      <td>0.655916</td>\n",
       "      <td>0.610481</td>\n",
       "      <td>0.349183</td>\n",
       "      <td>0.040336</td>\n",
       "      <td>0.261297</td>\n",
       "    </tr>\n",
       "    <tr>\n",
       "      <th>35</th>\n",
       "      <td>ZA</td>\n",
       "      <td>GUADELOUPE</td>\n",
       "      <td>0.525055</td>\n",
       "      <td>0.607968</td>\n",
       "      <td>0.319429</td>\n",
       "      <td>0.072603</td>\n",
       "      <td>0.288539</td>\n",
       "    </tr>\n",
       "  </tbody>\n",
       "</table>\n",
       "</div>"
      ],
      "text/plain": [
       "    code_departement          name_departement  perc_vote  perc_choix_a  \\\n",
       "21               22              COTES D'ARMOR   0.857076      0.491030   \n",
       "30               29                  FINISTERE   0.841636      0.494002   \n",
       "38               31              HAUTE GARONNE   0.834703      0.499144   \n",
       "97               94               VAL DE MARNE   0.774994      0.499755   \n",
       "22               23                     CREUSE   0.822266      0.497709   \n",
       "81               63                PUY DE DOME   0.840664      0.498989   \n",
       "78               75                      PARIS   0.801523      0.504291   \n",
       "44               65            HAUTES PYRENEES   0.832350      0.512423   \n",
       "104              ZW           WALLIS-ET-FUTUNA   0.721029      0.521098   \n",
       "60               46                        LOT   0.861383      0.524631   \n",
       "45               87               HAUTE VIENNE   0.845138      0.525055   \n",
       "36               ZC                     GUYANE   0.509509      0.521472   \n",
       "86               ZS   SAINT PIERRE ET MIQUELON   0.554540      0.533333   \n",
       "7                9                      ARIEGE   0.841007      0.550394   \n",
       "18               19                    CORREZE   0.853605      0.551720   \n",
       "92               93          SEINE SAINT-DENIS   0.734629      0.582097   \n",
       "66               ZB                 MARTINIQUE   0.524184      0.567230   \n",
       "55               ZD                 LA REUNION   0.655916      0.610481   \n",
       "35               ZA                 GUADELOUPE   0.525055      0.607968   \n",
       "\n",
       "     perc_choix_b  perc_blancs  choix_index  \n",
       "21       0.490934     0.018036     0.000096  \n",
       "30       0.489279     0.016719     0.004723  \n",
       "38       0.484183     0.016673     0.014961  \n",
       "97       0.484273     0.015972     0.015483  \n",
       "22       0.478351     0.023940     0.019358  \n",
       "81       0.479241     0.021771     0.019748  \n",
       "78       0.483671     0.012038     0.020620  \n",
       "44       0.467472     0.020105     0.044951  \n",
       "104      0.472851     0.006050     0.048247  \n",
       "60       0.455015     0.020354     0.069615  \n",
       "45       0.448370     0.026576     0.076685  \n",
       "36       0.433696     0.044833     0.087776  \n",
       "86       0.430403     0.036264     0.102930  \n",
       "7        0.431009     0.018596     0.119385  \n",
       "18       0.427737     0.020544     0.123983  \n",
       "92       0.399330     0.018573     0.182768  \n",
       "66       0.354000     0.078771     0.213230  \n",
       "55       0.349183     0.040336     0.261297  \n",
       "35       0.319429     0.072603     0.288539  "
      ]
     },
     "execution_count": 36,
     "metadata": {},
     "output_type": "execute_result"
    }
   ],
   "source": [
    "data_vote_choix[data_vote_choix['choix_index'] > 0.0].sort_values(by='choix_index')"
   ]
  },
  {
   "cell_type": "markdown",
   "metadata": {},
   "source": [
    "## La relation de la population et du vote\n",
    "\n",
    "On a utilsé les données d'évolution et structure de la population en 2013 (INSEE) et a selectionné: les hommes et les femmes qui ont >= 20 ans (P13_H2064, P13_H65P, P13_F2064, P13_F65P)\n",
    "\n",
    "Les données sont mises au base de données."
   ]
  },
  {
   "cell_type": "code",
   "execution_count": 37,
   "metadata": {},
   "outputs": [],
   "source": [
    "# hors Mayotte\n",
    "total_inscrits = pd.read_sql('SELECT SUM(inscrits) AS total_inscrits FROM referendum_departement WHERE name_departement != \\'MAYOTTE\\'', con=conn)"
   ]
  },
  {
   "cell_type": "code",
   "execution_count": 38,
   "metadata": {},
   "outputs": [],
   "source": [
    "# hors Mayotte\n",
    "total_adults = pd.read_sql('SELECT (SUM(a.homme_adu) + SUM(a.femme_adu)) AS total_adu FROM (SELECT code_departement, h2064+h65p AS homme_adu, f2064+f65p AS femme_adu FROM pop_departement_sum) AS a', con=conn)"
   ]
  },
  {
   "cell_type": "code",
   "execution_count": 39,
   "metadata": {},
   "outputs": [
    {
     "data": {
      "text/plain": [
       "0    0.9289\n",
       "dtype: float64"
      ]
     },
     "execution_count": 39,
     "metadata": {},
     "output_type": "execute_result"
    }
   ],
   "source": [
    "total_inscrits['total_inscrits']/total_adults['total_adu']"
   ]
  },
  {
   "cell_type": "markdown",
   "metadata": {},
   "source": [
    "### La relation du sexe et du vote\n",
    "\n",
    "La definition de l'index de sexe\n",
    "\n",
    "    perc_homme = homme / (population >= 20 ans)\n",
    "    perc_femme = femme / (population >= 20 ans)\n",
    "    idx_sexe = perc_homme - perc_femme"
   ]
  },
  {
   "cell_type": "code",
   "execution_count": 40,
   "metadata": {},
   "outputs": [],
   "source": [
    "# La relation idx_Sexe - idx_Choix\n",
    "c_s_data = pd.read_sql('SELECT * FROM choix_gendre_relation_dep', con=conn)"
   ]
  },
  {
   "cell_type": "code",
   "execution_count": 41,
   "metadata": {},
   "outputs": [
    {
     "data": {
      "text/plain": [
       "Index(['code_departement', 'name_departement', 'choix_index', 'gender_index'], dtype='object')"
      ]
     },
     "execution_count": 41,
     "metadata": {},
     "output_type": "execute_result"
    }
   ],
   "source": [
    "c_s_data.columns"
   ]
  },
  {
   "cell_type": "code",
   "execution_count": 42,
   "metadata": {},
   "outputs": [],
   "source": [
    "def plot_choix_sexe_relation(choix_sexe_dataset, is_save, filename):\n",
    "    slope, intercept, r_value, p_value, std_err = stats.linregress(choix_sexe_dataset.gender_index, choix_sexe_dataset.choix_index)\n",
    "    fig = plt.figure(figsize=(6, 6))\n",
    "    ax1 = fig.add_subplot(111)\n",
    "    ax1.set_title('Relation Sexe - Choix (France Métropolitaine)')\n",
    "    ax1.set_xlabel('Homme - Femme (> 20 ans)')\n",
    "    ax1.set_ylabel('Choix_A - Choix_B')\n",
    "    ax1.set_xlim(-0.08, -0.01)\n",
    "    ax1.set_ylim(-0.4, 0.2)\n",
    "    ax1.scatter(choix_sexe_dataset.gender_index, choix_sexe_dataset.choix_index, s=10.0)\n",
    "    plt.plot(choix_sexe_dataset.gender_index, intercept + slope*choix_sexe_dataset.gender_index, 'r', label='fitted line')\n",
    "    if is_save:\n",
    "        plt.savefig(filename, format='png')\n",
    "    else:\n",
    "        plt.show()"
   ]
  },
  {
   "cell_type": "code",
   "execution_count": 43,
   "metadata": {},
   "outputs": [
    {
     "data": {
      "image/png": "[encoded data removed]",
      "text/plain": [
       "<matplotlib.figure.Figure at 0x1150be828>"
      ]
     },
     "metadata": {},
     "output_type": "display_data"
    }
   ],
   "source": [
    "plot_choix_sexe_relation(c_s_data, saved, 'vote_tendency_by_gender.png')"
   ]
  },
  {
   "cell_type": "code",
   "execution_count": 44,
   "metadata": {},
   "outputs": [],
   "source": [
    "slope, intercept, r_value, p_value, std_err = stats.linregress(c_s_data.gender_index, c_s_data.choix_index)"
   ]
  },
  {
   "cell_type": "code",
   "execution_count": 45,
   "metadata": {},
   "outputs": [
    {
     "name": "stdout",
     "output_type": "stream",
     "text": [
      "-1.57145982056\n"
     ]
    }
   ],
   "source": [
    "print(slope)"
   ]
  },
  {
   "cell_type": "code",
   "execution_count": 46,
   "metadata": {},
   "outputs": [
    {
     "name": "stdout",
     "output_type": "stream",
     "text": [
      "0.0261746764737\n"
     ]
    }
   ],
   "source": [
    "print(r_value**2)"
   ]
  },
  {
   "cell_type": "code",
   "execution_count": 47,
   "metadata": {},
   "outputs": [
    {
     "name": "stdout",
     "output_type": "stream",
     "text": [
      "0.115302532224\n"
     ]
    }
   ],
   "source": [
    "print(p_value)"
   ]
  },
  {
   "cell_type": "code",
   "execution_count": 48,
   "metadata": {},
   "outputs": [
    {
     "name": "stdout",
     "output_type": "stream",
     "text": [
      "0.988642384349\n"
     ]
    }
   ],
   "source": [
    "print(std_err)"
   ]
  },
  {
   "cell_type": "code",
   "execution_count": null,
   "metadata": {},
   "outputs": [],
   "source": []
  }
 ],
 "metadata": {
  "kernelspec": {
   "display_name": "Python 3",
   "language": "python",
   "name": "python3"
  },
  "language_info": {
   "codemirror_mode": {
    "name": "ipython",
    "version": 3
   },
   "file_extension": ".py",
   "mimetype": "text/x-python",
   "name": "python",
   "nbconvert_exporter": "python",
   "pygments_lexer": "ipython3",
   "version": "3.6.3"
  }
 },
 "nbformat": 4,
 "nbformat_minor": 2
}
